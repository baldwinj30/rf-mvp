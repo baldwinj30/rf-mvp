{
 "cells": [
  {
   "cell_type": "markdown",
   "metadata": {},
   "source": [
    "# Random Forest Classifier\n",
    "\n",
    "## A combination of decision trees\n",
    "\n",
    "Recall our first lecture on decision trees, where a classifier was trained to make splits in the data at various nodes to minimize the entropy.  The random forest algorithm will attempt to train an ensemble of random trees that are uncorrelated.\n",
    "\n",
    "## Motivating example\n",
    "\n",
    "As we move through this notebook, we will use a motivating example of classifying NBA MVP award winners from the set of NBA All-Stars from 1980 (start of the 3-point line) to 2019.  This provides us with an interesting, real-world problem because we have an unbalanced dataset (there are significantly more All-Stars than MVP winners) with potentially irrelevant features.  So, let's start by loading in the data!  I have pulled the All-Star seasons from [Basketball Reference](https://www.basketball-reference.com), using a script that will be provided.  I pulled the MVP dataset manually, as there were far fewer results for that one."
   ]
  },
  {
   "cell_type": "code",
   "execution_count": 1,
   "metadata": {},
   "outputs": [
    {
     "data": {
      "text/html": [
       "<div>\n",
       "<style scoped>\n",
       "    .dataframe tbody tr th:only-of-type {\n",
       "        vertical-align: middle;\n",
       "    }\n",
       "\n",
       "    .dataframe tbody tr th {\n",
       "        vertical-align: top;\n",
       "    }\n",
       "\n",
       "    .dataframe thead th {\n",
       "        text-align: right;\n",
       "    }\n",
       "</style>\n",
       "<table border=\"1\" class=\"dataframe\">\n",
       "  <thead>\n",
       "    <tr style=\"text-align: right;\">\n",
       "      <th></th>\n",
       "      <th>Player</th>\n",
       "      <th>Season</th>\n",
       "      <th>Tm</th>\n",
       "      <th>PTS</th>\n",
       "      <th>3PA</th>\n",
       "      <th>label</th>\n",
       "    </tr>\n",
       "  </thead>\n",
       "  <tbody>\n",
       "    <tr>\n",
       "      <th>0</th>\n",
       "      <td>Michael Jordan</td>\n",
       "      <td>1987-88</td>\n",
       "      <td>CHI</td>\n",
       "      <td>2868</td>\n",
       "      <td>53</td>\n",
       "      <td>1</td>\n",
       "    </tr>\n",
       "    <tr>\n",
       "      <th>1</th>\n",
       "      <td>Michael Jordan</td>\n",
       "      <td>1995-96</td>\n",
       "      <td>CHI</td>\n",
       "      <td>2491</td>\n",
       "      <td>260</td>\n",
       "      <td>1</td>\n",
       "    </tr>\n",
       "    <tr>\n",
       "      <th>2</th>\n",
       "      <td>LeBron James</td>\n",
       "      <td>2008-09</td>\n",
       "      <td>CLE</td>\n",
       "      <td>2304</td>\n",
       "      <td>384</td>\n",
       "      <td>1</td>\n",
       "    </tr>\n",
       "    <tr>\n",
       "      <th>3</th>\n",
       "      <td>Michael Jordan</td>\n",
       "      <td>1990-91</td>\n",
       "      <td>CHI</td>\n",
       "      <td>2580</td>\n",
       "      <td>93</td>\n",
       "      <td>1</td>\n",
       "    </tr>\n",
       "    <tr>\n",
       "      <th>4</th>\n",
       "      <td>LeBron James</td>\n",
       "      <td>2012-13</td>\n",
       "      <td>MIA</td>\n",
       "      <td>2036</td>\n",
       "      <td>254</td>\n",
       "      <td>1</td>\n",
       "    </tr>\n",
       "    <tr>\n",
       "      <th>5</th>\n",
       "      <td>Kevin Durant</td>\n",
       "      <td>2013-14</td>\n",
       "      <td>OKC</td>\n",
       "      <td>2593</td>\n",
       "      <td>491</td>\n",
       "      <td>1</td>\n",
       "    </tr>\n",
       "    <tr>\n",
       "      <th>6</th>\n",
       "      <td>Shaquille O'Neal</td>\n",
       "      <td>1999-00</td>\n",
       "      <td>LAL</td>\n",
       "      <td>2344</td>\n",
       "      <td>1</td>\n",
       "      <td>1</td>\n",
       "    </tr>\n",
       "    <tr>\n",
       "      <th>7</th>\n",
       "      <td>LeBron James</td>\n",
       "      <td>2009-10</td>\n",
       "      <td>CLE</td>\n",
       "      <td>2258</td>\n",
       "      <td>387</td>\n",
       "      <td>1</td>\n",
       "    </tr>\n",
       "    <tr>\n",
       "      <th>8</th>\n",
       "      <td>Kevin Garnett</td>\n",
       "      <td>2003-04</td>\n",
       "      <td>MIN</td>\n",
       "      <td>1987</td>\n",
       "      <td>43</td>\n",
       "      <td>1</td>\n",
       "    </tr>\n",
       "    <tr>\n",
       "      <th>9</th>\n",
       "      <td>Stephen Curry</td>\n",
       "      <td>2015-16</td>\n",
       "      <td>GSW</td>\n",
       "      <td>2375</td>\n",
       "      <td>886</td>\n",
       "      <td>1</td>\n",
       "    </tr>\n",
       "    <tr>\n",
       "      <th>10</th>\n",
       "      <td>Tim Duncan</td>\n",
       "      <td>2001-02</td>\n",
       "      <td>SAS</td>\n",
       "      <td>2089</td>\n",
       "      <td>10</td>\n",
       "      <td>1</td>\n",
       "    </tr>\n",
       "  </tbody>\n",
       "</table>\n",
       "</div>"
      ],
      "text/plain": [
       "              Player   Season   Tm   PTS  3PA  label\n",
       "0     Michael Jordan  1987-88  CHI  2868   53      1\n",
       "1     Michael Jordan  1995-96  CHI  2491  260      1\n",
       "2       LeBron James  2008-09  CLE  2304  384      1\n",
       "3     Michael Jordan  1990-91  CHI  2580   93      1\n",
       "4       LeBron James  2012-13  MIA  2036  254      1\n",
       "5       Kevin Durant  2013-14  OKC  2593  491      1\n",
       "6   Shaquille O'Neal  1999-00  LAL  2344    1      1\n",
       "7       LeBron James  2009-10  CLE  2258  387      1\n",
       "8      Kevin Garnett  2003-04  MIN  1987   43      1\n",
       "9      Stephen Curry  2015-16  GSW  2375  886      1\n",
       "10        Tim Duncan  2001-02  SAS  2089   10      1"
      ]
     },
     "execution_count": 1,
     "metadata": {},
     "output_type": "execute_result"
    }
   ],
   "source": [
    "import pandas as pd\n",
    "all_star_totals = pd.read_pickle('data/all_star_totals_df.pkl')\n",
    "mvp_totals = pd.read_pickle('data/mvp_totals_df.pkl')\n",
    "# because the all_star_df includes the unlabeled mvps, we need to \n",
    "# merge the two to get the correct labels\n",
    "data_df = mvp_totals.merge(all_star_totals, #on=['Player', 'Season'], \n",
    "                           how='right', indicator=True)\n",
    "data_df['label'] = data_df['_merge'].map({'both': 1, 'right_only': 0})  # 0 is regular all-star, 1 is mvp\n",
    "data_df.dropna(inplace=True)  # handle a couple na rows from the data source\n",
    "data_df.loc[:10, ['Player', 'Season', 'Tm', 'PTS', '3PA', 'label']]"
   ]
  },
  {
   "cell_type": "markdown",
   "metadata": {},
   "source": [
    "## Feature selection\n",
    "\n",
    "This could be a topic for a separate talk.  The most basic (and often most effective) feature analysis can be performed from expert knowledge and quick visual inspection.  For example, many basketball fans would agree that which team a player plays for is not relevant to winning the MVP award, so we can likely throw out the 'Tm' column.  Further, a quick visual inspection combined with our knowledge of basketball tells us that three point attempts by themselves are likely not a good indicator of an MVP season as different playstyles lead to a different number of three pointers attempted and we don't know how effective a player was at making their threes.  \n",
    "\n",
    "When applying this logic to your problems, consider what you know about your problem space and try applying common sense.  Then, try some quick visual summaries of the problem.  This is a great example of 20% of the work getting you 80% of the way there most of the time."
   ]
  },
  {
   "cell_type": "code",
   "execution_count": 2,
   "metadata": {},
   "outputs": [],
   "source": [
    "features = ['WS', 'AST', 'STL', 'BLK', 'TOV', 'FGA', '3PA', '3P', 'FG%', 'eFG%', 'FT%', 'TS%']"
   ]
  },
  {
   "cell_type": "markdown",
   "metadata": {},
   "source": [
    "## Brief decision tree recap\n",
    "\n",
    "Decision trees are models that learn to make a series of splits in a dataset through decisions based on the data features.  There are various algorithms for learning how to make these splits for classification.  In a decision tree algorithm, the decision to split the data is based on the \"purity\" of the resulting leaf nodes.  There are several measures of impurity:  <img src=\"img/DTImpurityCurves.png\"> In class, we covered Hunt's algorithm where we made splits using whatever feature and value minimized entropy.  As you can see from the plot, we wanted to split the data using whatever feature and value would result in very few data points in one child node and many data points in the other child node (towards the ends of the curve).\n",
    "\n",
    "Let's see how a standard decision tree performs!"
   ]
  },
  {
   "cell_type": "code",
   "execution_count": 3,
   "metadata": {},
   "outputs": [
    {
     "data": {
      "text/plain": [
       "0.9464882943143813"
      ]
     },
     "execution_count": 3,
     "metadata": {},
     "output_type": "execute_result"
    }
   ],
   "source": [
    "# split the data into training and testing portions\n",
    "from sklearn.model_selection import train_test_split\n",
    "from sklearn.tree import DecisionTreeClassifier\n",
    "train_df, test_df, train_label, test_label = train_test_split(data_df[features].astype(float), data_df['label'],\n",
    "                                                              random_state=0, train_size=0.7)\n",
    "mvp_dt_classifier = DecisionTreeClassifier(criterion='entropy')\n",
    "mvp_dt_classifier.fit(train_df, train_label)\n",
    "mvp_dt_classifier.score(test_df, test_label)"
   ]
  },
  {
   "cell_type": "markdown",
   "metadata": {},
   "source": [
    "## What do we think?\n",
    "\n",
    "An accuracy of 94% looks pretty good.  However, we have a very unbalanced dataset for this example, where very few of our ~1000 samples are actually MVP winners.  Most of our samples are just regular all stars.  It is likely that our model is just predicting that every player is an all star.  Lets try to fix this by evening out the data in our train-test split."
   ]
  },
  {
   "cell_type": "markdown",
   "metadata": {},
   "source": [
    "## MVPs vs All Stars\n",
    "\n",
    "This example will classify the league MVP from a pool of all-stars, using data from basketball-reference."
   ]
  },
  {
   "cell_type": "code",
   "execution_count": null,
   "metadata": {},
   "outputs": [],
   "source": []
  }
 ],
 "metadata": {
  "kernelspec": {
   "display_name": "Python 3",
   "language": "python",
   "name": "python3"
  },
  "language_info": {
   "codemirror_mode": {
    "name": "ipython",
    "version": 3
   },
   "file_extension": ".py",
   "mimetype": "text/x-python",
   "name": "python",
   "nbconvert_exporter": "python",
   "pygments_lexer": "ipython3",
   "version": "3.7.3"
  }
 },
 "nbformat": 4,
 "nbformat_minor": 2
}
